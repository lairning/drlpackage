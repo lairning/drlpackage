{
 "cells": [
  {
   "cell_type": "code",
   "execution_count": 1,
   "source": [
    "# Get ready\n",
    "import lairningdecisions.server as server\n",
    "import ray\n",
    "import requests"
   ],
   "outputs": [
    {
     "output_type": "stream",
     "name": "stdout",
     "text": [
      "WARNING:tensorflow:From /home/md/miniconda3/envs/ray/lib/python3.7/site-packages/tensorflow/python/compat/v2_compat.py:96: disable_resource_variables (from tensorflow.python.ops.variable_scope) is deprecated and will be removed in a future version.\n",
      "Instructions for updating:\n",
      "non-resource variables are not supported in the long term\n"
     ]
    }
   ],
   "metadata": {}
  },
  {
   "cell_type": "code",
   "execution_count": 3,
   "source": [
    "backend_config = {'num_cpus': 0.5}\n",
    "backend = server.start_backend_server(config=backend_config)\n",
    "print(ray.available_resources())\n",
    "print(ray.cluster_resources())"
   ],
   "outputs": [
    {
     "output_type": "stream",
     "name": "stdout",
     "text": [
      "{'CPU': 1.0, 'object_store_memory': 63.0, 'node:178.18.249.39': 0.98, 'memory': 183.0}\n",
      "{'object_store_memory': 63.0, 'node:178.18.249.39': 1.0, 'memory': 183.0, 'CPU': 6.0}\n"
     ]
    }
   ],
   "metadata": {
    "tags": []
   }
  },
  {
   "cell_type": "code",
   "execution_count": 4,
   "source": [
    "# Show Policies\n",
    "# Todo: Refactor this code\n",
    "backend.list_backends()\n"
   ],
   "outputs": [
    {
     "output_type": "execute_result",
     "data": {
      "text/plain": [
       "{'trainer1_policy3': BackendConfig(internal_metadata=BackendMetadata(accepts_batches=False, is_blocking=False, autoscaling_config=None), num_replicas=6, max_batch_size=None, batch_wait_timeout=0, max_concurrent_queries=1000000, user_config=None, experimental_graceful_shutdown_wait_loop_s=2.0, experimental_graceful_shutdown_timeout_s=20.0)}"
      ]
     },
     "metadata": {},
     "execution_count": 4
    }
   ],
   "metadata": {
    "tags": []
   }
  },
  {
   "cell_type": "code",
   "execution_count": 5,
   "source": [
    "# Show Endpoints and associated policies\n",
    "backend.list_endpoints()"
   ],
   "outputs": [
    {
     "output_type": "execute_result",
     "data": {
      "text/plain": [
       "{'job_shop': {'route': '/job_shop',\n",
       "  'methods': ['GET'],\n",
       "  'traffic': {'trainer1_policy3': 1.0},\n",
       "  'shadows': {}}}"
      ]
     },
     "metadata": {},
     "execution_count": 5
    }
   ],
   "metadata": {
    "tags": []
   }
  },
  {
   "cell_type": "code",
   "execution_count": 5,
   "source": [
    "# Show policies\n",
    "server.show_policies()"
   ],
   "outputs": [
    {
     "output_type": "execute_result",
     "data": {
      "text/plain": [
       "   trainer_id trainer_name cloud_provider model_name  sim_config_id  \\\n",
       "0           1     job_shop                  job_shop              1   \n",
       "1           1     job_shop                  job_shop              1   \n",
       "2           1     job_shop                  job_shop              1   \n",
       "\n",
       "   policy_id  run_id                  time_start  simulations   duration  \\\n",
       "0          1       1  2021-08-05 23:06:13.162915           50  39.921585   \n",
       "1          2       2  2021-08-05 23:06:53.173223           50  42.294294   \n",
       "2          3       3  2021-08-05 23:07:35.553577           50  43.645915   \n",
       "\n",
       "       mean         std  deployed  \n",
       "0  606.3636   99.255508     False  \n",
       "1  556.6760  131.669631     False  \n",
       "2  596.9348   79.139637     False  "
      ],
      "text/html": [
       "<div>\n",
       "<style scoped>\n",
       "    .dataframe tbody tr th:only-of-type {\n",
       "        vertical-align: middle;\n",
       "    }\n",
       "\n",
       "    .dataframe tbody tr th {\n",
       "        vertical-align: top;\n",
       "    }\n",
       "\n",
       "    .dataframe thead th {\n",
       "        text-align: right;\n",
       "    }\n",
       "</style>\n",
       "<table border=\"1\" class=\"dataframe\">\n",
       "  <thead>\n",
       "    <tr style=\"text-align: right;\">\n",
       "      <th></th>\n",
       "      <th>trainer_id</th>\n",
       "      <th>trainer_name</th>\n",
       "      <th>cloud_provider</th>\n",
       "      <th>model_name</th>\n",
       "      <th>sim_config_id</th>\n",
       "      <th>policy_id</th>\n",
       "      <th>run_id</th>\n",
       "      <th>time_start</th>\n",
       "      <th>simulations</th>\n",
       "      <th>duration</th>\n",
       "      <th>mean</th>\n",
       "      <th>std</th>\n",
       "      <th>deployed</th>\n",
       "    </tr>\n",
       "  </thead>\n",
       "  <tbody>\n",
       "    <tr>\n",
       "      <th>0</th>\n",
       "      <td>1</td>\n",
       "      <td>job_shop</td>\n",
       "      <td></td>\n",
       "      <td>job_shop</td>\n",
       "      <td>1</td>\n",
       "      <td>1</td>\n",
       "      <td>1</td>\n",
       "      <td>2021-08-05 23:06:13.162915</td>\n",
       "      <td>50</td>\n",
       "      <td>39.921585</td>\n",
       "      <td>606.3636</td>\n",
       "      <td>99.255508</td>\n",
       "      <td>False</td>\n",
       "    </tr>\n",
       "    <tr>\n",
       "      <th>1</th>\n",
       "      <td>1</td>\n",
       "      <td>job_shop</td>\n",
       "      <td></td>\n",
       "      <td>job_shop</td>\n",
       "      <td>1</td>\n",
       "      <td>2</td>\n",
       "      <td>2</td>\n",
       "      <td>2021-08-05 23:06:53.173223</td>\n",
       "      <td>50</td>\n",
       "      <td>42.294294</td>\n",
       "      <td>556.6760</td>\n",
       "      <td>131.669631</td>\n",
       "      <td>False</td>\n",
       "    </tr>\n",
       "    <tr>\n",
       "      <th>2</th>\n",
       "      <td>1</td>\n",
       "      <td>job_shop</td>\n",
       "      <td></td>\n",
       "      <td>job_shop</td>\n",
       "      <td>1</td>\n",
       "      <td>3</td>\n",
       "      <td>3</td>\n",
       "      <td>2021-08-05 23:07:35.553577</td>\n",
       "      <td>50</td>\n",
       "      <td>43.645915</td>\n",
       "      <td>596.9348</td>\n",
       "      <td>79.139637</td>\n",
       "      <td>False</td>\n",
       "    </tr>\n",
       "  </tbody>\n",
       "</table>\n",
       "</div>"
      ]
     },
     "metadata": {},
     "execution_count": 5
    }
   ],
   "metadata": {
    "tags": []
   }
  },
  {
   "cell_type": "code",
   "execution_count": 20,
   "source": [
    "#Deploy a policy, create an endpoint and associate the policiy with the endpoint\n",
    "server.deploy_endpoint_policy(backend, trainer_id=1, policy_id=1, endpoint_name =\"job_shop\")\n",
    "print(ray.available_resources())"
   ],
   "outputs": [
    {
     "output_type": "stream",
     "name": "stdout",
     "text": [
      "# Policy 'trainer1_policy1' Deployed\n",
      "{'object_store_memory': 63.0, 'node:178.18.249.39': 0.97, 'memory': 183.0, 'CPU': 3.5}\n"
     ]
    }
   ],
   "metadata": {
    "tags": []
   }
  },
  {
   "cell_type": "code",
   "execution_count": 21,
   "source": [
    "backend.update_backend_config('trainer1_policy1', config_options={'num_replicas':3})\n",
    "print(ray.available_resources())"
   ],
   "outputs": [
    {
     "output_type": "stream",
     "name": "stdout",
     "text": [
      "{'CPU': 2.5, 'node:178.18.249.39': 0.98, 'memory': 183.0, 'object_store_memory': 63.0}\n"
     ]
    }
   ],
   "metadata": {
    "tags": []
   }
  },
  {
   "cell_type": "code",
   "execution_count": 22,
   "source": [
    "# Test the endpoint by executing one simulation\n",
    "job_shop_sim = server.get_simulator(trainer_id=1, policy_id=1)\n",
    "observation = job_shop_sim.reset()\n",
    "total_reward = 0\n",
    "done = False\n",
    "while not done:\n",
    "    response = requests.get(\"http://localhost:8000/job_shop\", json={\"observation\": observation})\n",
    "    action = response.json()['action']\n",
    "    observation, reward, done, _ = job_shop_sim.step(action)\n",
    "    total_reward += reward\n",
    "\n",
    "print(total_reward)\n"
   ],
   "outputs": [
    {
     "output_type": "stream",
     "name": "stdout",
     "text": [
      "569.0400000000001\n"
     ]
    }
   ],
   "metadata": {
    "tags": []
   }
  },
  {
   "cell_type": "code",
   "execution_count": 23,
   "source": [
    "#Deploy a second policy\n",
    "server.deploy_policy(backend, trainer_id=1, policy_id=3)\n",
    "backend.update_backend_config('trainer1_policy3', config_options={'num_replicas':3})\n",
    "print(ray.available_resources())"
   ],
   "outputs": [
    {
     "output_type": "stream",
     "name": "stdout",
     "text": [
      "# Policy 'trainer1_policy3' Deployed\n",
      "{'node:178.18.249.39': 0.98, 'memory': 183.0, 'CPU': 1.0, 'object_store_memory': 63.0}\n"
     ]
    }
   ],
   "metadata": {
    "tags": []
   }
  },
  {
   "cell_type": "code",
   "execution_count": 24,
   "source": [
    "#Split the traffic between the two policies\n",
    "backend.set_traffic(\"job_shop\", {'trainer1_policy1':0.5, 'trainer1_policy3':0.5})\n",
    "backend.list_endpoints()"
   ],
   "outputs": [],
   "metadata": {
    "tags": []
   }
  },
  {
   "cell_type": "code",
   "execution_count": 25,
   "source": [
    "# Test the endpoint by executing one simulation\n",
    "job_shop_sim = server.get_simulator(trainer_id=1, policy_id=1)\n",
    "observation = job_shop_sim.reset()\n",
    "total_reward = 0\n",
    "done = False\n",
    "while not done:\n",
    "    response = requests.get(\"http://localhost:8000/job_shop\", json={\"observation\": observation})\n",
    "    action = response.json()['action']\n",
    "    observation, reward, done, _ = job_shop_sim.step(action)\n",
    "    total_reward += reward\n",
    "\n",
    "print(total_reward)\n"
   ],
   "outputs": [
    {
     "output_type": "stream",
     "name": "stdout",
     "text": [
      "610.5999999999998\n"
     ]
    }
   ],
   "metadata": {
    "tags": []
   }
  },
  {
   "cell_type": "code",
   "execution_count": 6,
   "source": [
    "#Remove the end point and it's associated policies\n",
    "backend.delete_endpoint(\"job_shop\")\n",
    "server.undeploy_policy(backend, policy_name='trainer1_policy1')\n",
    "server.undeploy_policy(backend, policy_name='trainer1_policy3')"
   ],
   "outputs": [],
   "metadata": {
    "tags": []
   }
  },
  {
   "cell_type": "code",
   "execution_count": 30,
   "source": [
    "#Deploy a policy, create an endpoint and associate the policiy with the endpoint\n",
    "server.deploy_endpoint_policy(backend, trainer_id=1, policy_id=3, endpoint_name =\"job_shop\")\n",
    "backend.update_backend_config('trainer1_policy3', config_options={'num_replicas':6})\n",
    "print(ray.available_resources())"
   ],
   "outputs": [
    {
     "output_type": "stream",
     "name": "stdout",
     "text": [
      "# Policy 'trainer1_policy3' Deployed\n",
      "{'node:178.18.249.39': 0.97, 'object_store_memory': 63.0, 'memory': 183.0, 'CPU': 3.5}\n"
     ]
    }
   ],
   "metadata": {
    "tags": []
   }
  },
  {
   "cell_type": "code",
   "execution_count": 32,
   "source": [
    "# Get the KPIS for n Simulations\n",
    "job_shop_sim = server.get_simulator(trainer_id=1, policy_id=1)\n",
    "n = 20\n",
    "revenue = 0\n",
    "cost = 0\n",
    "qtd = {'P1': 0, 'P2': 0, 'P3': 0}\n",
    "duration = {'P1': 0, 'P2': 0, 'P3': 0}\n",
    "for i in range(n):\n",
    "    done = False\n",
    "    observation = job_shop_sim.reset()\n",
    "    while not done:\n",
    "        response = requests.get(\"http://localhost:8000/job_shop\", json={\"observation\": observation})\n",
    "        action = response.json()['action']\n",
    "        observation, _, done, kpis = job_shop_sim.step(action)\n",
    "    revenue += kpis['Revenue']\n",
    "    cost += kpis['Cost']\n",
    "    avg_duration = dict()\n",
    "    for p in qtd.keys():\n",
    "        qtd[p] += kpis['Qtd'][p]\n",
    "        duration[p] += kpis['Duration'][p]\n",
    "avg_duration = dict()\n",
    "for p in qtd.keys():\n",
    "    avg_duration[p] = duration[p] / qtd[p]\n",
    "print(\"# TOTAL # Avg Revenue={}; Avg Cost={}; Avg Duration={}\".format(revenue / n, cost / n, avg_duration))"
   ],
   "outputs": [
    {
     "output_type": "stream",
     "name": "stdout",
     "text": [
      "# TOTAL # Avg Revenue=971.9; Avg Cost=406.92700000000013; Avg Duration={'P1': 17.496132596685083, 'P2': 17.62213740458015, 'P3': 18.398780487804878}\n"
     ]
    }
   ],
   "metadata": {}
  },
  {
   "cell_type": "code",
   "execution_count": 17,
   "source": [
    "#Remove the end point and it's associated policies\n",
    "backend.delete_endpoint(\"job_shop\")\n",
    "server.undeploy_policy(backend, policy_name='trainer1_policy1')\n",
    "server.undeploy_policy(backend, policy_name='trainer1_policy3')"
   ],
   "outputs": [],
   "metadata": {
    "tags": []
   }
  },
  {
   "cell_type": "code",
   "execution_count": 33,
   "source": [
    "# Show Policies\n",
    "backend.list_backends()"
   ],
   "outputs": [
    {
     "output_type": "execute_result",
     "data": {
      "text/plain": [
       "{'trainer1_policy3': BackendConfig(internal_metadata=BackendMetadata(accepts_batches=False, is_blocking=False, autoscaling_config=None), num_replicas=6, max_batch_size=None, batch_wait_timeout=0, max_concurrent_queries=1000000, user_config=None, experimental_graceful_shutdown_wait_loop_s=2.0, experimental_graceful_shutdown_timeout_s=20.0)}"
      ]
     },
     "metadata": {},
     "execution_count": 33
    }
   ],
   "metadata": {
    "tags": []
   }
  },
  {
   "cell_type": "code",
   "execution_count": 34,
   "source": [
    "# Show Endpoints and associated policies\n",
    "backend.list_endpoints()"
   ],
   "outputs": [
    {
     "output_type": "execute_result",
     "data": {
      "text/plain": [
       "{'job_shop': {'route': '/job_shop',\n",
       "  'methods': ['GET'],\n",
       "  'traffic': {'trainer1_policy3': 1.0},\n",
       "  'shadows': {}}}"
      ]
     },
     "metadata": {},
     "execution_count": 34
    }
   ],
   "metadata": {
    "tags": []
   }
  },
  {
   "cell_type": "code",
   "execution_count": null,
   "source": [],
   "outputs": [],
   "metadata": {}
  }
 ],
 "metadata": {
  "kernelspec": {
   "name": "python3",
   "display_name": "Python 3.7.9 64-bit ('ray': conda)"
  },
  "language_info": {
   "codemirror_mode": {
    "name": "ipython",
    "version": 3
   },
   "file_extension": ".py",
   "mimetype": "text/x-python",
   "name": "python",
   "nbconvert_exporter": "python",
   "pygments_lexer": "ipython3",
   "version": "3.7.9"
  },
  "interpreter": {
   "hash": "bfbc824b6d92b1e26288871fb7288bad45098a54afe8668c22b0a149428defeb"
  }
 },
 "nbformat": 4,
 "nbformat_minor": 5
}