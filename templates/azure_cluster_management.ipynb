{
 "cells": [
  {
   "cell_type": "code",
   "execution_count": 1,
   "id": "maritime-sessions",
   "metadata": {},
   "outputs": [],
   "source": [
    "# Get ready\n",
    "import backoffice\n",
    "cloud_provider='azure'"
   ]
  },
  {
   "cell_type": "code",
   "execution_count": 2,
   "id": "modified-williams",
   "metadata": {},
   "outputs": [
    {
     "name": "stdout",
     "output_type": "stream",
     "text": [
      "### Trained ID:2\n",
      "2021-04-15 21:55:18,018\tINFO commands.py:726 -- Monitor autoscaling with\n",
      "2021-04-15 21:55:18,018\tINFO commands.py:729 -- ray exec /home/md/drl/configs/lairning_azure_scaler.yaml 'tail -n 100 -f /tmp/ray/session_latest/logs/monitor*'\n"
     ]
    }
   ],
   "source": [
    "# Launch a Azure Trainer Cluster\n",
    "\n",
    "# Cluster Configurations to consider \n",
    "config_small = {'worker_nodes': 2, 'header_type': 'Standard_D4s_v3', 'worker_type': 'Standard_D2s_v3'} # header: 4 cpus; workers: 2 cpus\n",
    "config_large = {'worker_nodes': 8, 'header_type': 'Standard_D16s_v3', 'worker_type': 'Standard_D2s_v3'} # header: 16 cpus; workers: 2 cpus\n",
    "config_gpu = {'worker_nodes': 16, 'header_type': 'Standard_NC6', 'worker_type': 'Standard_D4s_v3'} # header: 1 GPU + 4 cpus worker: 4 cpus\n",
    "\n",
    "cluster_name = 'lairning'\n",
    "\n",
    "trainer_id, result = backoffice.launch_trainer(cluster_name = cluster_name, cloud_provider=cloud_provider, cluster_config=config_small)\n",
    "print(\"### Trained ID:\"+str(trainer_id))\n",
    "if result.returncode:\n",
    "    print(result.stderr.split('\\n')[-20:])\n",
    "else:\n",
    "    print('# Trainer Cluster \"{}\" Successful Created on \"{}\"!'.format(cluster_name,cloud_provider))"
   ]
  },
  {
   "cell_type": "code",
   "execution_count": 3,
   "id": "atmospheric-archives",
   "metadata": {},
   "outputs": [
    {
     "name": "stdout",
     "output_type": "stream",
     "text": [
      "None\n"
     ]
    }
   ],
   "source": [
    "# Get Trainer data and Stop the Trainer Cluster\n",
    "\n",
    "success, result = backoffice.tear_down_trainer(trainer_id = trainer_id)\n",
    "print(success, result)"
   ]
  },
  {
   "cell_type": "code",
   "execution_count": null,
   "id": "appointed-belle",
   "metadata": {},
   "outputs": [],
   "source": [
    "# Stop the Trainer Cluster and Remove Trainer data\n",
    "\n",
    "success, result = backoffice.delete_trainer(trainer_id = trainer_id)\n",
    "print(success, result)"
   ]
  },
  {
   "cell_type": "code",
   "execution_count": null,
   "id": "incorporated-israeli",
   "metadata": {},
   "outputs": [],
   "source": [
    "# Get ready\n",
    "import backoffice\n",
    "cloud_provider='azure'"
   ]
  },
  {
   "cell_type": "code",
   "execution_count": 2,
   "id": "efficient-softball",
   "metadata": {},
   "outputs": [],
   "source": [
    "# Launch a Azure Policiy Server Cluster\n",
    "\n",
    "# Cluster Configurations to consider \n",
    "config_small = {'worker_nodes': 2, 'header_type': 'Standard_D4s_v3', 'worker_type': 'Standard_D2s_v3'} # header: 4 cpus; workers: 2 cpus\n",
    "config_large = {'worker_nodes': 8, 'header_type': 'Standard_D8s_v3', 'worker_type': 'Standard_D2s_v3'} # header: 8 cpus; workers: 2 cpus\n",
    "\n",
    "cluster_name = 'lairning'\n",
    "\n",
    "result = backoffice.launch_policy_server(cluster_name = cluster_name, cloud_provider=cloud_provider, cluster_config=config_large)\n",
    "if result.returncode:\n",
    "    print(result.stderr.split('\\n')[-20:])\n",
    "else:\n",
    "    print('# Policy Server \"{}\" Successful Created on \"{}\"!'.format(cluster_name,cloud_provider))"
   ]
  },
  {
   "cell_type": "code",
   "execution_count": null,
   "id": "violent-packaging",
   "metadata": {},
   "outputs": [],
   "source": [
    "# Stop the Policiy Server Cluster\n",
    "\n",
    "success, result = backoffice.tear_down_policy_server(cluster_name = cluster_name, cloud_provider=cloud_provider)\n",
    "if not success:\n",
    "    print(result)\n",
    "else:\n",
    "    print('# Policy Server \"{}\" Successful Teared Down on \"{}\"!'.format(cluster_name,cloud_provider))\n"
   ]
  },
  {
   "cell_type": "code",
   "execution_count": null,
   "id": "growing-supervision",
   "metadata": {},
   "outputs": [],
   "source": []
  }
 ],
 "metadata": {
  "kernelspec": {
   "display_name": "Python 3",
   "language": "python",
   "name": "python3"
  },
  "language_info": {
   "codemirror_mode": {
    "name": "ipython",
    "version": 3
   },
   "file_extension": ".py",
   "mimetype": "text/x-python",
   "name": "python",
   "nbconvert_exporter": "python",
   "pygments_lexer": "ipython3",
   "version": "3.7.9"
  }
 },
 "nbformat": 4,
 "nbformat_minor": 5
}
