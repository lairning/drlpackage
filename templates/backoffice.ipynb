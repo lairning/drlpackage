{
"cells": [
{
"cell_type": "code",
"execution_count": 1,
"id": "short-processor",
"metadata": {},
"outputs": [],
"source": [
"# Get ready\n",
"import backoffice\n"
]
}, {
"cell_type": "code",
"execution_count": 4,
"id": "subject-creator",
"metadata": {},
"outputs": [
{
"name": "stdout",
"output_type": "stream",
"text": [
"2021-03-18 13:34:07,053\tINFO commands.py:724 -- Useful commands\n",
"2021-03-18 13:34:07,053\tINFO commands.py:726 -- Monitor autoscaling with\n",
"2021-03-18 13:34:07,053\tINFO commands.py:729 -- ray exec /home/md/drl-trainers/simpy/trainer_configs/traffic_light_azure_scaler.yaml 'tail -n 100 -f /tmp/ray/session_latest/logs/monitor*'\n",
"2021-03-18 13:34:07,054\tINFO commands.py:731 -- Connect to a terminal on the cluster head:\n",
"2021-03-18 13:34:07,054\tINFO commands.py:733 -- ray attach /home/md/drl-trainers/simpy/trainer_configs/traffic_light_azure_scaler.yaml\n",
"2021-03-18 13:34:07,054\tINFO commands.py:736 -- Get a remote shell to the cluster manually:\n",
"2021-03-18 13:34:07,054\tINFO commands.py:737 -- ssh -o IdentitiesOnly=yes -i ~/.ssh/id_rsa ubuntu@20.71.35.9\n",
"\n"
]
}
],
"source": [
"# Launch a Trainer\n",
"\n",
"result = backoffice.launch_trainer(trainer_name = 'traffic_light')\n",
"\n",
"for l in result.stdout.split('\\n')[-8:]:\n",
"    print(l)\n"
]
}, {
"cell_type": "code",
"execution_count": 5,
"id": "neither-match",
"metadata": {},
"outputs": [
{
"name": "stdout",
"output_type": "stream",
"text": [
"None\n"
]
}
],
"source": [
"# Get Trainer Data\n",
"\n",
"result = backoffice.get_trainer_data(trainer_name = 'traffic_light')\n",
"print(result)"
]
}, {
"cell_type": "code",
"execution_count": 6,
"id": "centered-doubt",
"metadata": {},
"outputs": [
{
"name": "stdout",
"output_type": "stream",
"text": [
"\u001b[32mStopped all 13 Ray processes.\u001b[39m\n",
"\u001b[0m2021-03-18 13:42:40,099\tVWARN commands.py:257 -- Loaded cached provider configuration from
/tmp/ray-config-e0d86038813269742d07c94a208287a4e316719a\n",
"2021-03-18 13:42:40,099\tWARN commands.py:263 -- If you experience issues with the cloud provider, try re-running the
command with --no-config-cache.\n",
"2021-03-18 13:42:40,099\tINFO commands.py:322 -- Destroying cluster. Confirm [y/N]: y [automatic, due to --yes]\n",
"2021-03-18 13:42:41,403\tINFO command_runner.py:356 -- Fetched IP: 20.71.35.9\n",
"2021-03-18 13:42:41,403\tVINFO command_runner.py:508 -- Running `ray stop`\n",
"2021-03-18 13:42:41,403\tVVINFO command_runner.py:511 -- Full command
is `ssh -tt -i ~/.ssh/id_rsa -o StrictHostKeyChecking=no -o UserKnownHostsFile=/dev/null -o IdentitiesOnly=yes -o ExitOnForwardFailure=yes -o ServerAliveInterval=5 -o ServerAliveCountMax=3 -o ControlMaster=auto -o ControlPath=/tmp/ray_ssh_793914c9c5/9fb4aebb11/%C -o ControlPersist=10s -o ConnectTimeout=120s ubuntu@20.71.35.9 bash --login -c -i 'true && source ~/.bashrc && export OMP_NUM_THREADS=1 PYTHONWARNINGS=ignore && (ray stop)'`
\n",
"2021-03-18 13:43:29,096\tINFO commands.py:413 -- Requested 1 nodes to shut down. [interval=1s]\n",
"2021-03-18 13:43:34,165\tINFO commands.py:418 -- 0 nodes remaining after 5 second(s).\n",
"2021-03-18 13:43:34,165\tSUCC commands.py:419 -- No nodes remaining.\n",
"\n"
]
}
],
"source": [
"# Tear Down Trainer\n",
"\n",
"result = backoffice.tear_down_trainer(trainer_name = 'traffic_light')\n",
"for l in result.stdout.split('\\n'):\n",
"    print(l)"
]
}, {
"cell_type": "code",
"execution_count": 3,
"id": "improving-destruction",
"metadata": {},
"outputs": [
{
"data": {
"text/html": [
"<div>\n",
"<style scoped>\n",
"    .dataframe tbody tr th:only-of-type {\n",
"        vertical-align: middle;\n",
"    }\n",
"\n",
"    .dataframe tbody tr th {\n",
"        vertical-align: top;\n",
"    }\n",
"\n",
"    .dataframe thead th {\n",
"        text-align: right;\n",
"    }\n",
"</style>\n",
"<table border=\"1\" class=\"dataframe\">\n",
"  <thead>\n",
"    <tr style=\"text-align: right;\">\n",
"      <th></th>\n",
"      <th>trainer_id</th>\n",
"      <th>trainer_name</th>\n",
"      <th>policy_id</th>\n",
"      <th>model_name</th>\n",
"      <th>checkpoint</th>\n",
"    </tr>\n",
"  </thead>\n",
"  <tbody>\n",
"  </tbody>\n",
"</table>\n",
"</div>"
],
"text/plain": [
"Empty DataFrame\n",
"Columns: [trainer_id, trainer_name, policy_id, model_name, checkpoint]\n",
"Index: []"
]
},
"execution_count": 3,
"metadata": {},
"output_type": "execute_result"
}
],
"source": [
"# Get Policies to be Deployed\n",
"\n",
"backoffice.get_policies()\n"
]
}, {
"cell_type": "code",
"execution_count": 8,
"id": "innocent-woman",
"metadata": {},
"outputs": [
{
"name": "stdout",
"output_type": "stream",
"text": [
"2021-03-18 13:45:27.878224 INFO Model Server started on 173.249.37.119\n",
"2021-03-18 13:45:27.879249 INFO Trainers Should Deploy Policies on this Server using address='173.249.37.119'\n"
]
}, {
"name": "stderr",
"output_type": "stream",
"text": [
"\u001b[2m\u001b[36m(pid=31575)\u001b[0m INFO:     Started server process [31575]\n"
]
}
],
"source": [
"backend_server = backoffice.start_backend_server()"
]
}, {
"cell_type": "code",
"execution_count": 9,
"id": "graduate-statistics",
"metadata": {},
"outputs": [
{
"name": "stdout",
"output_type": "stream",
"text": [
"\u001b[2m\u001b[36m(pid=31710)\u001b[0m trainer_traffic_light/checkpoints/checkpoint_51/checkpoint-51\n"
]
}, {
"name": "stderr",
"output_type": "stream",
"text": [
"\u001b[2m\u001b[36m(pid=31710)\u001b[0m 2021-03-18 13:45:58,589\tINFO trainer.py:643 -- Current log_level is ERROR. For
more information, set 'log_level': 'INFO' / 'DEBUG' or use the -v and -vv flags.\n",
"\u001b[2m\u001b[36m(pid=31710)\u001b[0m 2021-03-18 13:46:17,487\tINFO trainable.py:103 -- Trainable.setup took 18.900
seconds. If your trainable is slow to initialize, consider setting reuse_actors=True to reduce actor creation
overheads.\n",
"\u001b[2m\u001b[36m(pid=31710)\u001b[0m 2021-03-18 13:46:17,488\tWARNING util.py:47 -- Install gputil for GPU system
monitoring.\n",
"\u001b[2m\u001b[36m(pid=31710)\u001b[0m 2021-03-18 13:46:18,050\tINFO trainable.py:372 -- Restored on 173.249.37.119
from checkpoint: trainer_traffic_light/checkpoints/checkpoint_51/checkpoint-51\n",
"\u001b[2m\u001b[36m(pid=31710)
\u001b[0m 2021-03-18 13:46:18,051\tINFO trainable.py:379 -- Current state after restoring: {'_iteration': 51, '_timesteps_total': None, '_time_total': 565.3513820171356, '_episodes_total': 612}\n"
]
}, {
"name": "stdout",
"output_type": "stream",
"text": [
"# Backend Configured\n"
]
}, {
"name": "stderr",
"output_type": "stream",
"text": [
"\u001b[2m\u001b[36m(pid=31578)\u001b[0m 2021-03-18 13:46:19,433\tINFO controller.py:180 -- Registering route '
/traffic_light_policy_1' to endpoint 'traffic_light_policy_1_endpoint' with methods '['GET']'.\n"
]
}
],
"source": [
"#import ray\n",
"backoffice.deploy_policy(backend_server, trainer_id=1, policy_id=1)"
]
}, {
"cell_type": "code",
"execution_count": 10,
"id": "august-fence",
"metadata": {},
"outputs": [
{
"data": {
"text/plain": [
"{'traffic_light_policy_1': BackendConfig(internal_metadata=BackendMetadata(accepts_batches=False, is_blocking=False, autoscaling_config=None), num_replicas=1, max_batch_size=None, batch_wait_timeout=0, max_concurrent_queries=1000000, user_config=None, experimental_graceful_shutdown_wait_loop_s=2.0, experimental_graceful_shutdown_timeout_s=20.0)}"
]
},
"execution_count": 10,
"metadata": {},
"output_type": "execute_result"
}
],
"source": [
"backend_server.list_backends()"
]
}, {
"cell_type": "code",
"execution_count": 11,
"id": "adverse-louisiana",
"metadata": {},
"outputs": [
{
"data": {
"text/plain": [
"{'traffic_light_policy_1_endpoint': {'route': '/traffic_light_policy_1',\n",
"  'methods': ['GET'],\n",
"  'traffic': {'traffic_light_policy_1': 1.0},\n",
"  'shadows': {}}}"
]
},
"execution_count": 11,
"metadata": {},
"output_type": "execute_result"
}
],
"source": [
"backend_server.list_endpoints()"
]
}, {
"cell_type": "code",
"execution_count": 17,
"id": "afraid-violence",
"metadata": {},
"outputs": [
{
"name": "stdout",
"output_type": "stream",
"text": [
"-40.01120357385389\n"
]
}
],
"source": [
"# Test the endpoint by executing one simulation\n",
"import requests\n",
"\n",
"traffic_sim = backoffice.get_simulator(trainer_id=1, policy_id=1)\n",
"observation = traffic_sim.reset()\n",
"total_reward = 0\n",
"done = False\n",
"while not done:\n",
"    response = requests.get(\"http://localhost:8000/traffic_light_policy_1\", json={\"observation\": observation})\n",
"    action = response.json()['action']\n",
"    observation, reward, done, _ = traffic_sim.step(action)\n",
"    total_reward += reward\n",
"\n",
"print(total_reward)\n"
]
}, {
"cell_type": "code",
"execution_count": 18,
"id": "interstate-clinton",
"metadata": {},
"outputs": [],
"source": [
"backend_server.shutdown()"
]
}, {
"cell_type": "code",
"execution_count": 2,
"id": "subject-arcade",
"metadata": {},
"outputs": [
{
"name": "stdout",
"output_type": "stream",
"text": [
"rm: cannot remove 'trainer_traffic_light': No such file or directory\n",
"\n",
"rm: cannot remove 'trainer_configs/traffic_light_azure_scaler.yaml': No such file or directory\n",
"\n",
"None\n"
]
}
],
"source": [
"# Remove Trainer\n",
"\n",
"result = backoffice.remove_trainer(trainer_name = 'traffic_light')\n",
"print(result)"
]
}, {
"cell_type": "code",
"execution_count": null,
"id": "checked-sentence",
"metadata": {},
"outputs": [],
"source": []
}
],
"metadata": {
"kernelspec": {
"display_name": "Python 3",
"language": "python",
"name": "python3"
},
"language_info": {
"codemirror_mode": {
"name": "ipython",
"version": 3 },
"file_extension": ".py",
"mimetype": "text/x-python",
"name": "python",
"nbconvert_exporter": "python",
"pygments_lexer": "ipython3",
"version": "3.7.3"
} },
"nbformat": 4,
"nbformat_minor": 5 }
