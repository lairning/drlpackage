{
 "cells": [
  {
   "cell_type": "code",
   "execution_count": 1,
   "id": "fifty-aruba",
   "metadata": {},
   "outputs": [],
   "source": [
    "# Get ready\n",
    "import lairningdecisions.backoffice as backoffice\n",
    "cloud_provider='aws'"
   ]
  },
  {
   "cell_type": "code",
   "execution_count": 10,
   "id": "automatic-haven",
   "metadata": {},
   "outputs": [
    {
     "name": "stdout",
     "output_type": "stream",
     "text": [
      "\n",
      "### Trained ID:2\n",
      "# Trainer Cluster \"lairning\" Successful Created on \"aws\"!\n"
     ]
    }
   ],
   "source": [
    "# Launch a AWS Trainer Cluster\n",
    "\n",
    "# Cluster Configurations to consider \n",
    "config_small = {'worker_nodes': 2, 'header_type': 'm5.xlarge', 'worker_type': 'm5.large'} # header:  4 cpus; workers: 2 cpus\n",
    "config_large = {'worker_nodes': 16, 'header_type': 'm5.4xlarge', 'worker_type': 'm5.xlarge'} # header: 16 cpus; workers: 4 cpus\n",
    "# config_gpu = {'worker_nodes': 16, 'header_type': 'p2.xlarge', 'worker_type': 'm5.xlarge'} # header: 1 GPU + 4 cpus worker: 4 cpus\n",
    "\n",
    "cluster_name = 'lairning'\n",
    "\n",
    "trainer_id, result = backoffice.launch_trainer(cluster_name = cluster_name, cloud_provider=cloud_provider, cluster_config=config_large)\n",
    "print(\"### Trained ID:\"+str(trainer_id))\n",
    "if result.returncode:\n",
    "    print(result.stderr.split('\\n')[-20:])\n",
    "else:\n",
    "    print('# Trainer Cluster \"{}\" Successful Created on \"{}\"!'.format(cluster_name,cloud_provider))"
   ]
  },
  {
   "cell_type": "code",
   "execution_count": 5,
   "id": "disabled-investigator",
   "metadata": {},
   "outputs": [
    {
     "name": "stdout",
     "output_type": "stream",
     "text": [
      "True []\n"
     ]
    }
   ],
   "source": [
    "# Get Trainer data and Stop the Trainer Cluster\n",
    "\n",
    "success, result = backoffice.tear_down_trainer(trainer_id = trainer_id)\n",
    "print(success, result)"
   ]
  },
  {
   "cell_type": "code",
   "execution_count": 11,
   "id": "chicken-improvement",
   "metadata": {},
   "outputs": [
    {
     "name": "stdout",
     "output_type": "stream",
     "text": [
      "True []\n"
     ]
    }
   ],
   "source": [
    "# Stop the Trainer Cluster and Remove Trainer data\n",
    "\n",
    "success, result = backoffice.delete_trainer(trainer_id = trainer_id)\n",
    "print(success, result)"
   ]
  },
  {
   "cell_type": "code",
   "execution_count": 1,
   "id": "informational-pantyhose",
   "metadata": {},
   "outputs": [],
   "source": [
    "# Get ready\n",
    "import backoffice\n",
    "cloud_provider='aws'"
   ]
  },
  {
   "cell_type": "code",
   "execution_count": 2,
   "id": "quarterly-holmes",
   "metadata": {},
   "outputs": [
    {
     "name": "stdout",
     "output_type": "stream",
     "text": [
      "\n",
      "# Policy Server \"lairning\" Successful Created on \"aws\"!\n"
     ]
    }
   ],
   "source": [
    "# Launch a AWS Policiy Server Cluster\n",
    "\n",
    "# Cluster Configurations to consider \n",
    "config_small = {'worker_nodes': 0, 'header_type': 'm5.xlarge', 'worker_type': 'm5.large'} # header:  4 cpus; workers: 2 cpus\n",
    "config_large = {'worker_nodes': 0, 'header_type': 'm5.2xlarge', 'worker_type': 'm5.xlarge'} # header: 8 cpus; workers: 4 cpus\n",
    "\n",
    "cluster_name = 'lairning'\n",
    "\n",
    "result = backoffice.launch_policy_server(cluster_name = cluster_name, cloud_provider=cloud_provider, cluster_config=config_large)\n",
    "if result.returncode:\n",
    "    print(result.stderr.split('\\n')[-20:])\n",
    "else:\n",
    "    print('# Policy Server \"{}\" Successful Created on \"{}\"!'.format(cluster_name,cloud_provider))"
   ]
  },
  {
   "cell_type": "code",
   "execution_count": 3,
   "id": "cloudy-rochester",
   "metadata": {},
   "outputs": [
    {
     "name": "stdout",
     "output_type": "stream",
     "text": [
      "# Policy Server \"lairning\" Successful Teared Down on \"aws\"!\n"
     ]
    }
   ],
   "source": [
    "# Stop the Policiy Server Cluster\n",
    "\n",
    "success, result = backoffice.tear_down_policy_server(cluster_name = cluster_name, cloud_provider=cloud_provider)\n",
    "if not success:\n",
    "    print(result)\n",
    "else:\n",
    "    print('# Policy Server \"{}\" Successful Teared Down on \"{}\"!'.format(cluster_name,cloud_provider))\n",
    "\n"
   ]
  },
  {
   "cell_type": "code",
   "execution_count": null,
   "id": "final-north",
   "metadata": {},
   "outputs": [],
   "source": []
  }
 ],
 "metadata": {
  "kernelspec": {
   "display_name": "Python 3",
   "language": "python",
   "name": "python3"
  },
  "language_info": {
   "codemirror_mode": {
    "name": "ipython",
    "version": 3
   },
   "file_extension": ".py",
   "mimetype": "text/x-python",
   "name": "python",
   "nbconvert_exporter": "python",
   "pygments_lexer": "ipython3",
   "version": "3.7.9"
  },
  "toc-autonumbering": true,
  "toc-showcode": false,
  "toc-showmarkdowntxt": true
 },
 "nbformat": 4,
 "nbformat_minor": 5
}
