{
 "cells": [
  {
   "cell_type": "code",
   "execution_count": 1,
   "id": "sustained-florida",
   "metadata": {},
   "outputs": [],
   "source": [
    "# Get ready\n",
    "import lairningdecisions.server as server\n",
    "import ray\n",
    "import requests\n",
    "backend_config = {'num_cpus': 0.5}"
   ]
  },
  {
   "cell_type": "code",
   "execution_count": 2,
   "id": "subject-groove",
   "metadata": {},
   "outputs": [
    {
     "name": "stdout",
     "output_type": "stream",
     "text": [
      "{'object_store_memory': 93.0, 'CPU': 4.0, 'memory': 270.0, 'node:173.249.37.119': 0.98}\n",
      "{'CPU': 6.0, 'node:173.249.37.119': 1.0, 'object_store_memory': 93.0, 'memory': 270.0}\n"
     ]
    }
   ],
   "source": [
    "backend = server.start_backend_server(config=backend_config)\n",
    "print(ray.available_resources())\n",
    "print(ray.cluster_resources())"
   ]
  },
  {
   "cell_type": "code",
   "execution_count": 3,
   "id": "controversial-adolescent",
   "metadata": {},
   "outputs": [
    {
     "data": {
      "text/plain": [
       "{}"
      ]
     },
     "execution_count": 3,
     "metadata": {},
     "output_type": "execute_result"
    }
   ],
   "source": [
    "# Show Policies\n",
    "# Todo: Refactor this code\n",
    "backend.list_backends()\n"
   ]
  },
  {
   "cell_type": "code",
   "execution_count": 4,
   "id": "funky-bikini",
   "metadata": {},
   "outputs": [
    {
     "data": {
      "text/plain": [
       "{}"
      ]
     },
     "execution_count": 4,
     "metadata": {},
     "output_type": "execute_result"
    }
   ],
   "source": [
    "# Show Endpoints and associated policies\n",
    "backend.list_endpoints()"
   ]
  },
  {
   "cell_type": "code",
   "execution_count": 5,
   "id": "bright-lighting",
   "metadata": {},
   "outputs": [
    {
     "data": {
      "text/html": [
       "<div>\n",
       "<style scoped>\n",
       "    .dataframe tbody tr th:only-of-type {\n",
       "        vertical-align: middle;\n",
       "    }\n",
       "\n",
       "    .dataframe tbody tr th {\n",
       "        vertical-align: top;\n",
       "    }\n",
       "\n",
       "    .dataframe thead th {\n",
       "        text-align: right;\n",
       "    }\n",
       "</style>\n",
       "<table border=\"1\" class=\"dataframe\">\n",
       "  <thead>\n",
       "    <tr style=\"text-align: right;\">\n",
       "      <th></th>\n",
       "      <th>trainer_id</th>\n",
       "      <th>trainer_name</th>\n",
       "      <th>cloud_provider</th>\n",
       "      <th>model_name</th>\n",
       "      <th>sim_config_id</th>\n",
       "      <th>policy_id</th>\n",
       "      <th>run_id</th>\n",
       "      <th>time_start</th>\n",
       "      <th>simulations</th>\n",
       "      <th>duration</th>\n",
       "      <th>mean</th>\n",
       "      <th>std</th>\n",
       "      <th>deployed</th>\n",
       "    </tr>\n",
       "  </thead>\n",
       "  <tbody>\n",
       "    <tr>\n",
       "      <th>0</th>\n",
       "      <td>1</td>\n",
       "      <td>lairning</td>\n",
       "      <td></td>\n",
       "      <td>gas_station</td>\n",
       "      <td>1</td>\n",
       "      <td>1</td>\n",
       "      <td>1</td>\n",
       "      <td>2021-04-15 21:39:56.714415</td>\n",
       "      <td>50</td>\n",
       "      <td>112.259772</td>\n",
       "      <td>792.423584</td>\n",
       "      <td>101.483188</td>\n",
       "      <td>False</td>\n",
       "    </tr>\n",
       "    <tr>\n",
       "      <th>1</th>\n",
       "      <td>1</td>\n",
       "      <td>lairning</td>\n",
       "      <td></td>\n",
       "      <td>gas_station</td>\n",
       "      <td>1</td>\n",
       "      <td>2</td>\n",
       "      <td>2</td>\n",
       "      <td>2021-04-15 21:41:49.089736</td>\n",
       "      <td>50</td>\n",
       "      <td>115.822213</td>\n",
       "      <td>779.720210</td>\n",
       "      <td>109.804170</td>\n",
       "      <td>False</td>\n",
       "    </tr>\n",
       "    <tr>\n",
       "      <th>2</th>\n",
       "      <td>1</td>\n",
       "      <td>lairning</td>\n",
       "      <td></td>\n",
       "      <td>gas_station</td>\n",
       "      <td>2</td>\n",
       "      <td>3</td>\n",
       "      <td>3</td>\n",
       "      <td>2021-04-15 21:43:45.173862</td>\n",
       "      <td>50</td>\n",
       "      <td>131.719333</td>\n",
       "      <td>776.709057</td>\n",
       "      <td>95.506141</td>\n",
       "      <td>False</td>\n",
       "    </tr>\n",
       "    <tr>\n",
       "      <th>3</th>\n",
       "      <td>1</td>\n",
       "      <td>lairning</td>\n",
       "      <td></td>\n",
       "      <td>gas_station</td>\n",
       "      <td>2</td>\n",
       "      <td>4</td>\n",
       "      <td>4</td>\n",
       "      <td>2021-04-15 21:45:57.089685</td>\n",
       "      <td>50</td>\n",
       "      <td>124.567125</td>\n",
       "      <td>788.258564</td>\n",
       "      <td>83.861962</td>\n",
       "      <td>False</td>\n",
       "    </tr>\n",
       "    <tr>\n",
       "      <th>0</th>\n",
       "      <td>2</td>\n",
       "      <td>lairning</td>\n",
       "      <td>aws</td>\n",
       "      <td>gas_station</td>\n",
       "      <td>2</td>\n",
       "      <td>1</td>\n",
       "      <td>1</td>\n",
       "      <td>2021-04-16 16:05:56.964909</td>\n",
       "      <td>50</td>\n",
       "      <td>15.537458</td>\n",
       "      <td>312.263433</td>\n",
       "      <td>72.027725</td>\n",
       "      <td>False</td>\n",
       "    </tr>\n",
       "  </tbody>\n",
       "</table>\n",
       "</div>"
      ],
      "text/plain": [
       "   trainer_id trainer_name cloud_provider   model_name  sim_config_id \\\n",
       "0           1     lairning                 gas_station              1 \n",
       "1           1     lairning                 gas_station              1 \n",
       "2           1     lairning                 gas_station              2 \n",
       "3           1     lairning                 gas_station              2 \n",
       "0           2     lairning            aws  gas_station              2 \n",
       "\n",
       "   policy_id  run_id                  time_start  simulations    duration \\\n",
       "0          1       1  2021-04-15 21:39:56.714415           50  112.259772 \n",
       "1          2       2  2021-04-15 21:41:49.089736           50  115.822213 \n",
       "2          3       3  2021-04-15 21:43:45.173862           50  131.719333 \n",
       "3          4       4  2021-04-15 21:45:57.089685           50  124.567125 \n",
       "0          1       1  2021-04-16 16:05:56.964909           50   15.537458 \n",
       "\n",
       "         mean         std  deployed \n",
       "0  792.423584  101.483188     False \n",
       "1  779.720210  109.804170     False \n",
       "2  776.709057   95.506141     False \n",
       "3  788.258564   83.861962     False \n",
       "0  312.263433   72.027725     False  "
      ]
     },
     "execution_count": 5,
     "metadata": {},
     "output_type": "execute_result"
    }
   ],
   "source": [
    "# Show policies\n",
    "server.show_policies()"
   ]
  },
  {
   "cell_type": "code",
   "execution_count": 6,
   "id": "distinguished-cambodia",
   "metadata": {},
   "outputs": [
    {
     "name": "stdout",
     "output_type": "stream",
     "text": [
      "# Policy 'trainer2_policy1' Deployed\n",
      "{'node:173.249.37.119': 0.97, 'object_store_memory': 93.0, 'memory': 270.0, 'CPU': 3.5}\n"
     ]
    }
   ],
   "source": [
    "#Deploy a policy, create an endpoint and associate the policiy with the endpoint\n",
    "server.deploy_endpoint_policy(backend, trainer_id=2, policy_id=1, endpoint_name =\"light_manager\")\n",
    "print(ray.available_resources())"
   ]
  },
  {
   "cell_type": "code",
   "execution_count": 32,
   "id": "skilled-dimension",
   "metadata": {},
   "outputs": [
    {
     "name": "stdout",
     "output_type": "stream",
     "text": [
      "{'memory': 270.0, 'CPU': 3.0, 'object_store_memory': 93.0, 'node:173.249.37.119': 0.98}\n"
     ]
    }
   ],
   "source": [
    "backend.update_backend_config('trainer3_policy1',config_options={'num_replicas':2})\n",
    "print(ray.available_resources())"
   ]
  },
  {
   "cell_type": "code",
   "execution_count": null,
   "id": "fossil-shanghai",
   "metadata": {},
   "outputs": [],
   "source": [
    "# Test the endpoint by executing one simulation\n",
    "traffic_sim = server.get_simulator(trainer_id=2, policy_id=1)\n",
    "observation = traffic_sim.reset()\n",
    "total_reward = 0\n",
    "done = False\n",
    "while not done:\n",
    "    response = requests.get(\"http://localhost:8000/light_manager\", json={\"observation\": observation})\n",
    "    action = response.json()['action']\n",
    "    observation, reward, done, _ = traffic_sim.step(action)\n",
    "    total_reward += reward\n",
    "\n",
    "print(total_reward)\n"
   ]
  },
  {
   "cell_type": "code",
   "execution_count": 33,
   "id": "simplified-bahrain",
   "metadata": {},
   "outputs": [
    {
     "name": "stdout",
     "output_type": "stream",
     "text": [
      "# Policy 'trainer1_policy1' Deployed\n",
      "# Policy 'trainer1_policy4' Deployed\n",
      "{'node:173.249.37.119': 0.98, 'memory': 270.0, 'object_store_memory': 93.0, 'CPU': 2.0}\n"
     ]
    }
   ],
   "source": [
    "#Deploy two policies\n",
    "server.deploy_policy(backend, trainer_id=1, policy_id=1)\n",
    "server.deploy_policy(backend, trainer_id=1, policy_id=4)\n",
    "print(ray.available_resources())"
   ]
  },
  {
   "cell_type": "code",
   "execution_count": 34,
   "id": "stylish-parade",
   "metadata": {},
   "outputs": [],
   "source": [
    "#Create a endpoint to serve the policies\n",
    "server.add_endpoint(backend, policy_name='trainer1_policy1', endpoint_name =\"truck_dispatcher\")\n",
    "backend.set_traffic(\"truck_dispatcher\", {'trainer1_policy1':0.5, 'trainer1_policy4':0.5})"
   ]
  },
  {
   "cell_type": "code",
   "execution_count": 44,
   "id": "broken-google",
   "metadata": {},
   "outputs": [
    {
     "name": "stdout",
     "output_type": "stream",
     "text": [
      "616.8400159989324\n"
     ]
    }
   ],
   "source": [
    "# Test the endpoint by executing one simulation\n",
    "import requests\n",
    "\n",
    "gas_sim = server.get_simulator(trainer_id=1, policy_id=1)\n",
    "observation = gas_sim.reset()\n",
    "total_reward = 0\n",
    "done = False\n",
    "while not done:\n",
    "    response = requests.get(\"http://localhost:8000/truck_dispatcher\", json={\"observation\": observation})\n",
    "    action = response.json()['action']\n",
    "    observation, reward, done, _ = gas_sim.step(action)\n",
    "    total_reward += reward\n",
    "\n",
    "print(total_reward)\n"
   ]
  },
  {
   "cell_type": "code",
   "execution_count": 8,
   "id": "committed-globe",
   "metadata": {},
   "outputs": [],
   "source": [
    "#Remove first end point and it's associated policiy\n",
    "backend.delete_endpoint(\"light_manager\")\n",
    "server.undeploy_policy(backend, policy_name='trainer2_policy1')\n"
   ]
  },
  {
   "cell_type": "code",
   "execution_count": 46,
   "id": "hollow-messenger",
   "metadata": {},
   "outputs": [],
   "source": [
    "#Remove the second end point and it's associated policies\n",
    "backend.delete_endpoint(\"truck_dispatcher\")\n",
    "backoffice.undeploy_policy(backend, policy_name='trainer1_policy1')\n",
    "backoffice.undeploy_policy(backend, policy_name='trainer1_policy4')"
   ]
  },
  {
   "cell_type": "code",
   "execution_count": null,
   "id": "friendly-vegetable",
   "metadata": {},
   "outputs": [],
   "source": []
  }
 ],
 "metadata": {
  "kernelspec": {
   "display_name": "Python 3",
   "language": "python",
   "name": "python3"
  },
  "language_info": {
   "codemirror_mode": {
    "name": "ipython",
    "version": 3
   },
   "file_extension": ".py",
   "mimetype": "text/x-python",
   "name": "python",
   "nbconvert_exporter": "python",
   "pygments_lexer": "ipython3",
   "version": "3.7.9"
  }
 },
 "nbformat": 4,
 "nbformat_minor": 5
}
