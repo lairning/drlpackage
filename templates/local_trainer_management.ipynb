{
"cells": [
{
"cell_type": "code",
"execution_count": 7,
"id": "solved-layout",
"metadata": {},
"outputs": [],
"source": [
"# Get ready\n",
"import backoffice"
]
}, {
"cell_type": "code",
"execution_count": 8,
"id": "appreciated-superior",
"metadata": {},
"outputs": [
{
"name": "stdout",
"output_type": "stream",
"text": [
"### Trained ID:2\n"
]
}
],
"source": [
"# Launch a Trainer in the current machine\n",
"\n",
"trainer_id, result = backoffice.launch_trainer(cluster_name = 'lairning_teste')\n",
"print(\"### Trained ID:\"+str(trainer_id))"
]
}, {
"cell_type": "code",
"execution_count": 9,
"id": "suburban-muslim",
"metadata": {},
"outputs": [
{
"name": "stdout",
"output_type": "stream",
"text": [
"(True, [])\n"
]
}
],
"source": [
"# Remove the Trainer and the Trainer data\n",
"\n",
"result = backoffice.delete_trainer(trainer_id = trainer_id)\n",
"print(result)"
]
}, {
"cell_type": "code",
"execution_count": null,
"id": "negative-effect",
"metadata": {},
"outputs": [],
"source": []
}
],
"metadata": {
"kernelspec": {
"display_name": "Python 3",
"language": "python",
"name": "python3"
},
"language_info": {
"codemirror_mode": {
"name": "ipython",
"version": 3 },
"file_extension": ".py",
"mimetype": "text/x-python",
"name": "python",
"nbconvert_exporter": "python",
"pygments_lexer": "ipython3",
"version": "3.7.3"
} },
"nbformat": 4,
"nbformat_minor": 5 }
